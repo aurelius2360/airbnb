{
 "cells": [
  {
   "cell_type": "code",
   "execution_count": 714,
   "metadata": {},
   "outputs": [],
   "source": [
    "import pandas as pd \n",
    "import numpy as np \n",
    "import matplotlib.pyplot as plt"
   ]
  },
  {
   "cell_type": "code",
   "execution_count": 715,
   "metadata": {},
   "outputs": [
    {
     "name": "stderr",
     "output_type": "stream",
     "text": [
      "C:\\Users\\Heman\\AppData\\Local\\Temp\\ipykernel_18496\\2370090028.py:1: DtypeWarning: Columns (25) have mixed types. Specify dtype option on import or set low_memory=False.\n",
      "  data =pd.read_csv(\"Airbnb_Open_Data.csv\")\n"
     ]
    }
   ],
   "source": [
    "data =pd.read_csv(\"Airbnb_Open_Data.csv\")"
   ]
  },
  {
   "cell_type": "code",
   "execution_count": 716,
   "metadata": {},
   "outputs": [],
   "source": [
    "df = pd.DataFrame(data)"
   ]
  },
  {
   "cell_type": "code",
   "execution_count": 717,
   "metadata": {},
   "outputs": [
    {
     "data": {
      "text/html": [
       "<div>\n",
       "<style scoped>\n",
       "    .dataframe tbody tr th:only-of-type {\n",
       "        vertical-align: middle;\n",
       "    }\n",
       "\n",
       "    .dataframe tbody tr th {\n",
       "        vertical-align: top;\n",
       "    }\n",
       "\n",
       "    .dataframe thead th {\n",
       "        text-align: right;\n",
       "    }\n",
       "</style>\n",
       "<table border=\"1\" class=\"dataframe\">\n",
       "  <thead>\n",
       "    <tr style=\"text-align: right;\">\n",
       "      <th></th>\n",
       "      <th>id</th>\n",
       "      <th>NAME</th>\n",
       "      <th>host id</th>\n",
       "      <th>host_identity_verified</th>\n",
       "      <th>host name</th>\n",
       "      <th>neighbourhood group</th>\n",
       "      <th>neighbourhood</th>\n",
       "      <th>lat</th>\n",
       "      <th>long</th>\n",
       "      <th>country</th>\n",
       "      <th>...</th>\n",
       "      <th>service fee</th>\n",
       "      <th>minimum nights</th>\n",
       "      <th>number of reviews</th>\n",
       "      <th>last review</th>\n",
       "      <th>reviews per month</th>\n",
       "      <th>review rate number</th>\n",
       "      <th>calculated host listings count</th>\n",
       "      <th>availability 365</th>\n",
       "      <th>house_rules</th>\n",
       "      <th>license</th>\n",
       "    </tr>\n",
       "  </thead>\n",
       "  <tbody>\n",
       "    <tr>\n",
       "      <th>0</th>\n",
       "      <td>1001254</td>\n",
       "      <td>Clean &amp; quiet apt home by the park</td>\n",
       "      <td>80014485718</td>\n",
       "      <td>unconfirmed</td>\n",
       "      <td>Madaline</td>\n",
       "      <td>Brooklyn</td>\n",
       "      <td>Kensington</td>\n",
       "      <td>40.64749</td>\n",
       "      <td>-73.97237</td>\n",
       "      <td>United States</td>\n",
       "      <td>...</td>\n",
       "      <td>$193</td>\n",
       "      <td>10.0</td>\n",
       "      <td>9.0</td>\n",
       "      <td>10/19/2021</td>\n",
       "      <td>0.21</td>\n",
       "      <td>4.0</td>\n",
       "      <td>6.0</td>\n",
       "      <td>286.0</td>\n",
       "      <td>Clean up and treat the home the way you'd like...</td>\n",
       "      <td>NaN</td>\n",
       "    </tr>\n",
       "    <tr>\n",
       "      <th>1</th>\n",
       "      <td>1002102</td>\n",
       "      <td>Skylit Midtown Castle</td>\n",
       "      <td>52335172823</td>\n",
       "      <td>verified</td>\n",
       "      <td>Jenna</td>\n",
       "      <td>Manhattan</td>\n",
       "      <td>Midtown</td>\n",
       "      <td>40.75362</td>\n",
       "      <td>-73.98377</td>\n",
       "      <td>United States</td>\n",
       "      <td>...</td>\n",
       "      <td>$28</td>\n",
       "      <td>30.0</td>\n",
       "      <td>45.0</td>\n",
       "      <td>5/21/2022</td>\n",
       "      <td>0.38</td>\n",
       "      <td>4.0</td>\n",
       "      <td>2.0</td>\n",
       "      <td>228.0</td>\n",
       "      <td>Pet friendly but please confirm with me if the...</td>\n",
       "      <td>NaN</td>\n",
       "    </tr>\n",
       "    <tr>\n",
       "      <th>2</th>\n",
       "      <td>1002403</td>\n",
       "      <td>THE VILLAGE OF HARLEM....NEW YORK !</td>\n",
       "      <td>78829239556</td>\n",
       "      <td>NaN</td>\n",
       "      <td>Elise</td>\n",
       "      <td>Manhattan</td>\n",
       "      <td>Harlem</td>\n",
       "      <td>40.80902</td>\n",
       "      <td>-73.94190</td>\n",
       "      <td>United States</td>\n",
       "      <td>...</td>\n",
       "      <td>$124</td>\n",
       "      <td>3.0</td>\n",
       "      <td>0.0</td>\n",
       "      <td>NaN</td>\n",
       "      <td>NaN</td>\n",
       "      <td>5.0</td>\n",
       "      <td>1.0</td>\n",
       "      <td>352.0</td>\n",
       "      <td>I encourage you to use my kitchen, cooking and...</td>\n",
       "      <td>NaN</td>\n",
       "    </tr>\n",
       "    <tr>\n",
       "      <th>3</th>\n",
       "      <td>1002755</td>\n",
       "      <td>NaN</td>\n",
       "      <td>85098326012</td>\n",
       "      <td>unconfirmed</td>\n",
       "      <td>Garry</td>\n",
       "      <td>Brooklyn</td>\n",
       "      <td>Clinton Hill</td>\n",
       "      <td>40.68514</td>\n",
       "      <td>-73.95976</td>\n",
       "      <td>United States</td>\n",
       "      <td>...</td>\n",
       "      <td>$74</td>\n",
       "      <td>30.0</td>\n",
       "      <td>270.0</td>\n",
       "      <td>7/5/2019</td>\n",
       "      <td>4.64</td>\n",
       "      <td>4.0</td>\n",
       "      <td>1.0</td>\n",
       "      <td>322.0</td>\n",
       "      <td>NaN</td>\n",
       "      <td>NaN</td>\n",
       "    </tr>\n",
       "    <tr>\n",
       "      <th>4</th>\n",
       "      <td>1003689</td>\n",
       "      <td>Entire Apt: Spacious Studio/Loft by central park</td>\n",
       "      <td>92037596077</td>\n",
       "      <td>verified</td>\n",
       "      <td>Lyndon</td>\n",
       "      <td>Manhattan</td>\n",
       "      <td>East Harlem</td>\n",
       "      <td>40.79851</td>\n",
       "      <td>-73.94399</td>\n",
       "      <td>United States</td>\n",
       "      <td>...</td>\n",
       "      <td>$41</td>\n",
       "      <td>10.0</td>\n",
       "      <td>9.0</td>\n",
       "      <td>11/19/2018</td>\n",
       "      <td>0.10</td>\n",
       "      <td>3.0</td>\n",
       "      <td>1.0</td>\n",
       "      <td>289.0</td>\n",
       "      <td>Please no smoking in the house, porch or on th...</td>\n",
       "      <td>NaN</td>\n",
       "    </tr>\n",
       "  </tbody>\n",
       "</table>\n",
       "<p>5 rows × 26 columns</p>\n",
       "</div>"
      ],
      "text/plain": [
       "        id                                              NAME      host id  \\\n",
       "0  1001254                Clean & quiet apt home by the park  80014485718   \n",
       "1  1002102                             Skylit Midtown Castle  52335172823   \n",
       "2  1002403               THE VILLAGE OF HARLEM....NEW YORK !  78829239556   \n",
       "3  1002755                                               NaN  85098326012   \n",
       "4  1003689  Entire Apt: Spacious Studio/Loft by central park  92037596077   \n",
       "\n",
       "  host_identity_verified host name neighbourhood group neighbourhood  \\\n",
       "0            unconfirmed  Madaline            Brooklyn    Kensington   \n",
       "1               verified     Jenna           Manhattan       Midtown   \n",
       "2                    NaN     Elise           Manhattan        Harlem   \n",
       "3            unconfirmed     Garry            Brooklyn  Clinton Hill   \n",
       "4               verified    Lyndon           Manhattan   East Harlem   \n",
       "\n",
       "        lat      long        country  ... service fee minimum nights  \\\n",
       "0  40.64749 -73.97237  United States  ...       $193            10.0   \n",
       "1  40.75362 -73.98377  United States  ...        $28            30.0   \n",
       "2  40.80902 -73.94190  United States  ...       $124             3.0   \n",
       "3  40.68514 -73.95976  United States  ...        $74            30.0   \n",
       "4  40.79851 -73.94399  United States  ...        $41            10.0   \n",
       "\n",
       "  number of reviews last review  reviews per month review rate number  \\\n",
       "0               9.0  10/19/2021               0.21                4.0   \n",
       "1              45.0   5/21/2022               0.38                4.0   \n",
       "2               0.0         NaN                NaN                5.0   \n",
       "3             270.0    7/5/2019               4.64                4.0   \n",
       "4               9.0  11/19/2018               0.10                3.0   \n",
       "\n",
       "  calculated host listings count  availability 365  \\\n",
       "0                            6.0             286.0   \n",
       "1                            2.0             228.0   \n",
       "2                            1.0             352.0   \n",
       "3                            1.0             322.0   \n",
       "4                            1.0             289.0   \n",
       "\n",
       "                                         house_rules license  \n",
       "0  Clean up and treat the home the way you'd like...     NaN  \n",
       "1  Pet friendly but please confirm with me if the...     NaN  \n",
       "2  I encourage you to use my kitchen, cooking and...     NaN  \n",
       "3                                                NaN     NaN  \n",
       "4  Please no smoking in the house, porch or on th...     NaN  \n",
       "\n",
       "[5 rows x 26 columns]"
      ]
     },
     "execution_count": 717,
     "metadata": {},
     "output_type": "execute_result"
    }
   ],
   "source": [
    "df.head()"
   ]
  },
  {
   "cell_type": "code",
   "execution_count": 718,
   "metadata": {},
   "outputs": [
    {
     "name": "stdout",
     "output_type": "stream",
     "text": [
      "<class 'pandas.core.frame.DataFrame'>\n",
      "RangeIndex: 102599 entries, 0 to 102598\n",
      "Data columns (total 26 columns):\n",
      " #   Column                          Non-Null Count   Dtype  \n",
      "---  ------                          --------------   -----  \n",
      " 0   id                              102599 non-null  int64  \n",
      " 1   NAME                            102349 non-null  object \n",
      " 2   host id                         102599 non-null  int64  \n",
      " 3   host_identity_verified          102310 non-null  object \n",
      " 4   host name                       102193 non-null  object \n",
      " 5   neighbourhood group             102570 non-null  object \n",
      " 6   neighbourhood                   102583 non-null  object \n",
      " 7   lat                             102591 non-null  float64\n",
      " 8   long                            102591 non-null  float64\n",
      " 9   country                         102067 non-null  object \n",
      " 10  country code                    102468 non-null  object \n",
      " 11  instant_bookable                102494 non-null  object \n",
      " 12  cancellation_policy             102523 non-null  object \n",
      " 13  room type                       102599 non-null  object \n",
      " 14  Construction year               102385 non-null  float64\n",
      " 15  price                           102352 non-null  object \n",
      " 16  service fee                     102326 non-null  object \n",
      " 17  minimum nights                  102190 non-null  float64\n",
      " 18  number of reviews               102416 non-null  float64\n",
      " 19  last review                     86706 non-null   object \n",
      " 20  reviews per month               86720 non-null   float64\n",
      " 21  review rate number              102273 non-null  float64\n",
      " 22  calculated host listings count  102280 non-null  float64\n",
      " 23  availability 365                102151 non-null  float64\n",
      " 24  house_rules                     50468 non-null   object \n",
      " 25  license                         2 non-null       object \n",
      "dtypes: float64(9), int64(2), object(15)\n",
      "memory usage: 20.4+ MB\n"
     ]
    }
   ],
   "source": [
    "df.info()"
   ]
  },
  {
   "cell_type": "code",
   "execution_count": 719,
   "metadata": {},
   "outputs": [
    {
     "data": {
      "text/plain": [
       "Index(['id', 'NAME', 'host id', 'host_identity_verified', 'host name',\n",
       "       'neighbourhood group', 'neighbourhood', 'lat', 'long', 'country',\n",
       "       'country code', 'instant_bookable', 'cancellation_policy', 'room type',\n",
       "       'Construction year', 'price', 'service fee', 'minimum nights',\n",
       "       'number of reviews', 'last review', 'reviews per month',\n",
       "       'review rate number', 'calculated host listings count',\n",
       "       'availability 365', 'house_rules', 'license'],\n",
       "      dtype='object')"
      ]
     },
     "execution_count": 719,
     "metadata": {},
     "output_type": "execute_result"
    }
   ],
   "source": [
    "df.columns"
   ]
  },
  {
   "cell_type": "code",
   "execution_count": 720,
   "metadata": {},
   "outputs": [
    {
     "name": "stdout",
     "output_type": "stream",
     "text": [
      "Index(['id', 'name', 'host_id', 'host_identity_verified', 'host_name',\n",
      "       'neighbourhood_group', 'neighbourhood', 'lat', 'long', 'country',\n",
      "       'country_code', 'instant_bookable', 'cancellation_policy', 'room_type',\n",
      "       'construction_year', 'price', 'service_fee', 'minimum_nights',\n",
      "       'number_of_reviews', 'last_review', 'reviews_per_month',\n",
      "       'review_rate_number', 'calculated_host_listings_count',\n",
      "       'availability_365', 'house_rules', 'license'],\n",
      "      dtype='object')\n"
     ]
    }
   ],
   "source": [
    "df.columns = df.columns.str.strip().str.lower().str.replace(\" \", \"_\")  # Normalize column names\n",
    "print(df.columns)\n"
   ]
  },
  {
   "cell_type": "code",
   "execution_count": 721,
   "metadata": {},
   "outputs": [
    {
     "data": {
      "text/plain": [
       "instant_bookable\n",
       "False    51474\n",
       "True     51020\n",
       "Name: count, dtype: int64"
      ]
     },
     "execution_count": 721,
     "metadata": {},
     "output_type": "execute_result"
    }
   ],
   "source": [
    "df['instant_bookable'].value_counts()"
   ]
  },
  {
   "cell_type": "code",
   "execution_count": 722,
   "metadata": {},
   "outputs": [
    {
     "data": {
      "text/plain": [
       "cancellation_policy\n",
       "moderate    34343\n",
       "strict      34106\n",
       "flexible    34074\n",
       "Name: count, dtype: int64"
      ]
     },
     "execution_count": 722,
     "metadata": {},
     "output_type": "execute_result"
    }
   ],
   "source": [
    "df[\"cancellation_policy\"].value_counts()"
   ]
  },
  {
   "cell_type": "code",
   "execution_count": 723,
   "metadata": {},
   "outputs": [
    {
     "data": {
      "text/plain": [
       "room_type\n",
       "Entire home/apt    53701\n",
       "Private room       46556\n",
       "Shared room         2226\n",
       "Hotel room           116\n",
       "Name: count, dtype: int64"
      ]
     },
     "execution_count": 723,
     "metadata": {},
     "output_type": "execute_result"
    }
   ],
   "source": [
    "df[\"room_type\"].value_counts()"
   ]
  },
  {
   "cell_type": "markdown",
   "metadata": {},
   "source": [
    "DATA CLEANING"
   ]
  },
  {
   "cell_type": "code",
   "execution_count": 724,
   "metadata": {},
   "outputs": [],
   "source": [
    "df1=df\n",
    "# droping minimum nights cause the data entered is not correct\n",
    "df1=df.drop([\"minimum_nights\"],axis=1)\n",
    "# we are dropping availability 365 also as it contains wrong entry of data even though it effects the price\n",
    "df1=df1.drop([\"availability_365\"],axis=1)"
   ]
  },
  {
   "cell_type": "code",
   "execution_count": 725,
   "metadata": {},
   "outputs": [
    {
     "name": "stdout",
     "output_type": "stream",
     "text": [
      "no\n"
     ]
    }
   ],
   "source": [
    "col=df1.columns\n",
    "if \"minimum_nights\" and \"availability_365\" in col:\n",
    "    print(\"yes\")\n",
    "else:\n",
    "    print(\"no\")\n",
    "\n",
    "# so minimum nights is removed from the data"
   ]
  },
  {
   "cell_type": "code",
   "execution_count": 726,
   "metadata": {},
   "outputs": [
    {
     "name": "stderr",
     "output_type": "stream",
     "text": [
      "C:\\Users\\Heman\\AppData\\Local\\Temp\\ipykernel_18496\\429281975.py:5: FutureWarning: A value is trying to be set on a copy of a DataFrame or Series through chained assignment using an inplace method.\n",
      "The behavior will change in pandas 3.0. This inplace method will never work because the intermediate object on which we are setting values always behaves as a copy.\n",
      "\n",
      "For example, when doing 'df[col].method(value, inplace=True)', try using 'df.method({col: value}, inplace=True)' or df[col] = df[col].method(value) instead, to perform the operation inplace on the original object.\n",
      "\n",
      "\n",
      "  df1['house_rules'].fillna('No', inplace=True)\n"
     ]
    }
   ],
   "source": [
    "# Replace all non-null values in 'column_name' with 'Yes'\n",
    "df1['house_rules'] = df1['house_rules'].apply(lambda x: 'Yes' if pd.notnull(x) else x)\n",
    "\n",
    "# Fill missing values in 'column_name' with 'Unknown'\n",
    "df1['house_rules'].fillna('No', inplace=True)"
   ]
  },
  {
   "cell_type": "code",
   "execution_count": 727,
   "metadata": {},
   "outputs": [
    {
     "data": {
      "text/plain": [
       "house_rules\n",
       "No     52131\n",
       "Yes    50468\n",
       "Name: count, dtype: int64"
      ]
     },
     "execution_count": 727,
     "metadata": {},
     "output_type": "execute_result"
    }
   ],
   "source": [
    "# so we converted all the house with no rules into no and all the houses with house rules into yes\n",
    "df1[\"house_rules\"].value_counts()"
   ]
  },
  {
   "cell_type": "code",
   "execution_count": 728,
   "metadata": {},
   "outputs": [
    {
     "name": "stdout",
     "output_type": "stream",
     "text": [
      "<class 'pandas.core.frame.DataFrame'>\n",
      "RangeIndex: 102599 entries, 0 to 102598\n",
      "Data columns (total 24 columns):\n",
      " #   Column                          Non-Null Count   Dtype  \n",
      "---  ------                          --------------   -----  \n",
      " 0   id                              102599 non-null  int64  \n",
      " 1   name                            102349 non-null  object \n",
      " 2   host_id                         102599 non-null  int64  \n",
      " 3   host_identity_verified          102310 non-null  object \n",
      " 4   host_name                       102193 non-null  object \n",
      " 5   neighbourhood_group             102570 non-null  object \n",
      " 6   neighbourhood                   102583 non-null  object \n",
      " 7   lat                             102591 non-null  float64\n",
      " 8   long                            102591 non-null  float64\n",
      " 9   country                         102067 non-null  object \n",
      " 10  country_code                    102468 non-null  object \n",
      " 11  instant_bookable                102494 non-null  object \n",
      " 12  cancellation_policy             102523 non-null  object \n",
      " 13  room_type                       102599 non-null  object \n",
      " 14  construction_year               102385 non-null  float64\n",
      " 15  price                           102352 non-null  object \n",
      " 16  service_fee                     102326 non-null  object \n",
      " 17  number_of_reviews               102416 non-null  float64\n",
      " 18  last_review                     86706 non-null   object \n",
      " 19  reviews_per_month               86720 non-null   float64\n",
      " 20  review_rate_number              102273 non-null  float64\n",
      " 21  calculated_host_listings_count  102280 non-null  float64\n",
      " 22  house_rules                     102599 non-null  object \n",
      " 23  license                         2 non-null       object \n",
      "dtypes: float64(7), int64(2), object(15)\n",
      "memory usage: 18.8+ MB\n"
     ]
    }
   ],
   "source": [
    "df1.info()"
   ]
  },
  {
   "cell_type": "code",
   "execution_count": 729,
   "metadata": {},
   "outputs": [
    {
     "name": "stderr",
     "output_type": "stream",
     "text": [
      "<>:6: SyntaxWarning: invalid escape sequence '\\$'\n",
      "<>:6: SyntaxWarning: invalid escape sequence '\\$'\n",
      "C:\\Users\\Heman\\AppData\\Local\\Temp\\ipykernel_18496\\2900728454.py:6: SyntaxWarning: invalid escape sequence '\\$'\n",
      "  df1[column] = df[column].replace({'\\$': '', ',': ''}, regex=True)\n"
     ]
    }
   ],
   "source": [
    "# now as of price and service fee are object type we need to convert them into int type\n",
    "#coz money should be in numbers i.e,int not in object type\n",
    "\n",
    "columns_to_convert = [\"price\",\"service_fee\"]\n",
    "for column in columns_to_convert:\n",
    "    df1[column] = df[column].replace({'\\$': '', ',': ''}, regex=True)\n",
    "    df1[column] = df1[column].astype('Int64')"
   ]
  },
  {
   "cell_type": "code",
   "execution_count": 730,
   "metadata": {},
   "outputs": [
    {
     "name": "stdout",
     "output_type": "stream",
     "text": [
      "<class 'pandas.core.frame.DataFrame'>\n",
      "RangeIndex: 102599 entries, 0 to 102598\n",
      "Data columns (total 24 columns):\n",
      " #   Column                          Non-Null Count   Dtype  \n",
      "---  ------                          --------------   -----  \n",
      " 0   id                              102599 non-null  int64  \n",
      " 1   name                            102349 non-null  object \n",
      " 2   host_id                         102599 non-null  int64  \n",
      " 3   host_identity_verified          102310 non-null  object \n",
      " 4   host_name                       102193 non-null  object \n",
      " 5   neighbourhood_group             102570 non-null  object \n",
      " 6   neighbourhood                   102583 non-null  object \n",
      " 7   lat                             102591 non-null  float64\n",
      " 8   long                            102591 non-null  float64\n",
      " 9   country                         102067 non-null  object \n",
      " 10  country_code                    102468 non-null  object \n",
      " 11  instant_bookable                102494 non-null  object \n",
      " 12  cancellation_policy             102523 non-null  object \n",
      " 13  room_type                       102599 non-null  object \n",
      " 14  construction_year               102385 non-null  float64\n",
      " 15  price                           102352 non-null  Int64  \n",
      " 16  service_fee                     102326 non-null  Int64  \n",
      " 17  number_of_reviews               102416 non-null  float64\n",
      " 18  last_review                     86706 non-null   object \n",
      " 19  reviews_per_month               86720 non-null   float64\n",
      " 20  review_rate_number              102273 non-null  float64\n",
      " 21  calculated_host_listings_count  102280 non-null  float64\n",
      " 22  house_rules                     102599 non-null  object \n",
      " 23  license                         2 non-null       object \n",
      "dtypes: Int64(2), float64(7), int64(2), object(13)\n",
      "memory usage: 19.0+ MB\n"
     ]
    }
   ],
   "source": [
    "df1.info()"
   ]
  },
  {
   "cell_type": "code",
   "execution_count": 731,
   "metadata": {},
   "outputs": [
    {
     "data": {
      "text/plain": [
       "country\n",
       "United States    102067\n",
       "Name: count, dtype: int64"
      ]
     },
     "execution_count": 731,
     "metadata": {},
     "output_type": "execute_result"
    }
   ],
   "source": [
    "df1[\"country\"].value_counts()"
   ]
  },
  {
   "cell_type": "code",
   "execution_count": 732,
   "metadata": {},
   "outputs": [
    {
     "data": {
      "text/plain": [
       "id                                     0\n",
       "name                                 250\n",
       "host_id                                0\n",
       "host_identity_verified               289\n",
       "host_name                            406\n",
       "neighbourhood_group                   29\n",
       "neighbourhood                         16\n",
       "lat                                    8\n",
       "long                                   8\n",
       "country                              532\n",
       "country_code                         131\n",
       "instant_bookable                     105\n",
       "cancellation_policy                   76\n",
       "room_type                              0\n",
       "construction_year                    214\n",
       "price                                247\n",
       "service_fee                          273\n",
       "number_of_reviews                    183\n",
       "last_review                        15893\n",
       "reviews_per_month                  15879\n",
       "review_rate_number                   326\n",
       "calculated_host_listings_count       319\n",
       "house_rules                            0\n",
       "license                           102597\n",
       "dtype: int64"
      ]
     },
     "execution_count": 732,
     "metadata": {},
     "output_type": "execute_result"
    }
   ],
   "source": [
    "df1.isna().sum()"
   ]
  },
  {
   "cell_type": "code",
   "execution_count": 733,
   "metadata": {},
   "outputs": [
    {
     "data": {
      "text/plain": [
       "neighbourhood_group\n",
       "Manhattan        43792\n",
       "Brooklyn         41842\n",
       "Queens           13267\n",
       "Bronx             2712\n",
       "Staten Island      955\n",
       "brookln              1\n",
       "manhatan             1\n",
       "Name: count, dtype: int64"
      ]
     },
     "execution_count": 733,
     "metadata": {},
     "output_type": "execute_result"
    }
   ],
   "source": [
    "df1[\"neighbourhood_group\"].value_counts()"
   ]
  },
  {
   "cell_type": "code",
   "execution_count": 734,
   "metadata": {},
   "outputs": [
    {
     "data": {
      "text/plain": [
       "neighbourhood_group\n",
       "Manhattan        43793\n",
       "Brooklyn         41843\n",
       "Queens           13267\n",
       "Bronx             2712\n",
       "Staten Island      955\n",
       "Name: count, dtype: int64"
      ]
     },
     "execution_count": 734,
     "metadata": {},
     "output_type": "execute_result"
    }
   ],
   "source": [
    "neighborhood_mapping = {\n",
    "    'brookln': 'Brooklyn',\n",
    "    'manhatan': 'Manhattan'\n",
    "}\n",
    "\n",
    "# Replace the incorrect values in the 'neighbourhood' column\n",
    "df1['neighbourhood_group'] = df1['neighbourhood_group'].replace(neighborhood_mapping)\n",
    "df1[\"neighbourhood_group\"].value_counts()"
   ]
  },
  {
   "cell_type": "code",
   "execution_count": 735,
   "metadata": {},
   "outputs": [
    {
     "name": "stderr",
     "output_type": "stream",
     "text": [
      "C:\\Users\\Heman\\AppData\\Local\\Temp\\ipykernel_18496\\285043853.py:2: FutureWarning: A value is trying to be set on a copy of a DataFrame or Series through chained assignment using an inplace method.\n",
      "The behavior will change in pandas 3.0. This inplace method will never work because the intermediate object on which we are setting values always behaves as a copy.\n",
      "\n",
      "For example, when doing 'df[col].method(value, inplace=True)', try using 'df.method({col: value}, inplace=True)' or df[col] = df[col].method(value) instead, to perform the operation inplace on the original object.\n",
      "\n",
      "\n",
      "  df1[\"country\"].fillna(\"United States\",inplace=True)\n"
     ]
    }
   ],
   "source": [
    "# replacing empty country values with usa \n",
    "df1[\"country\"].fillna(\"United States\",inplace=True)"
   ]
  },
  {
   "cell_type": "code",
   "execution_count": 736,
   "metadata": {},
   "outputs": [],
   "source": [
    "# Replace NaN values in a instant_bookable with random True/False\n",
    "df1['instant_bookable'] = df['instant_bookable'].apply(lambda x: np.random.choice([True, False]) if pd.isna(x) else x)"
   ]
  },
  {
   "cell_type": "code",
   "execution_count": 737,
   "metadata": {},
   "outputs": [],
   "source": [
    "# Replace NaN values in a cancellation_policy with a random choice of 'moderate', 'strict', or 'flexible'\n",
    "df1['cancellation_policy'] = df1['cancellation_policy'].apply(lambda x: np.random.choice(['moderate', 'strict', 'flexible']) if pd.isna(x) else x)\n"
   ]
  },
  {
   "cell_type": "code",
   "execution_count": 738,
   "metadata": {},
   "outputs": [
    {
     "data": {
      "text/plain": [
       "cancellation_policy\n",
       "moderate    34372\n",
       "strict      34136\n",
       "flexible    34091\n",
       "Name: count, dtype: int64"
      ]
     },
     "execution_count": 738,
     "metadata": {},
     "output_type": "execute_result"
    }
   ],
   "source": [
    "#checking if changed or not \n",
    "df1[\"cancellation_policy\"].value_counts()"
   ]
  },
  {
   "cell_type": "code",
   "execution_count": 739,
   "metadata": {},
   "outputs": [],
   "source": [
    "# replacing the missing values in the \"price\" and \"service fee\" with the mean of the column\n",
    "df1['service_fee'] = df1['service_fee'].fillna(int(df1['service_fee'].mean()))\n",
    "df1['price'] = df1['price'].fillna(int(df1['price'].mean()))"
   ]
  },
  {
   "cell_type": "code",
   "execution_count": 740,
   "metadata": {},
   "outputs": [],
   "source": [
    "df1[\"number_of_reviews\"]=df1[\"number_of_reviews\"].fillna(int(df1['number_of_reviews'].mean()))"
   ]
  },
  {
   "cell_type": "code",
   "execution_count": 741,
   "metadata": {},
   "outputs": [
    {
     "name": "stderr",
     "output_type": "stream",
     "text": [
      "C:\\Users\\Heman\\AppData\\Local\\Temp\\ipykernel_18496\\990198188.py:2: FutureWarning: Series.fillna with 'method' is deprecated and will raise in a future version. Use obj.ffill() or obj.bfill() instead.\n",
      "  df1['construction_year'] = df1['construction_year'].fillna(method='bfill')\n"
     ]
    }
   ],
   "source": [
    "#filling missing values from construction year with their bottow row values\n",
    "df1['construction_year'] = df1['construction_year'].fillna(method='bfill')\n"
   ]
  },
  {
   "cell_type": "code",
   "execution_count": 742,
   "metadata": {},
   "outputs": [],
   "source": [
    "columnss = [\"lat\",\"long\",\"neighbourhood_group\",\"neighbourhood\"]\n",
    "for column in columnss:\n",
    "    df1 = df1.dropna(subset=[column])"
   ]
  },
  {
   "cell_type": "code",
   "execution_count": 743,
   "metadata": {},
   "outputs": [
    {
     "data": {
      "text/plain": [
       "Index(['id', 'name', 'host_id', 'host_identity_verified', 'host_name',\n",
       "       'neighbourhood_group', 'neighbourhood', 'lat', 'long', 'country',\n",
       "       'country_code', 'instant_bookable', 'cancellation_policy', 'room_type',\n",
       "       'construction_year', 'price', 'service_fee', 'number_of_reviews',\n",
       "       'last_review', 'reviews_per_month', 'review_rate_number',\n",
       "       'calculated_host_listings_count', 'house_rules', 'license'],\n",
       "      dtype='object')"
      ]
     },
     "execution_count": 743,
     "metadata": {},
     "output_type": "execute_result"
    }
   ],
   "source": [
    "df1.columns"
   ]
  },
  {
   "cell_type": "code",
   "execution_count": 744,
   "metadata": {},
   "outputs": [
    {
     "name": "stderr",
     "output_type": "stream",
     "text": [
      "C:\\Users\\Heman\\AppData\\Local\\Temp\\ipykernel_18496\\108290750.py:1: FutureWarning: A value is trying to be set on a copy of a DataFrame or Series through chained assignment using an inplace method.\n",
      "The behavior will change in pandas 3.0. This inplace method will never work because the intermediate object on which we are setting values always behaves as a copy.\n",
      "\n",
      "For example, when doing 'df[col].method(value, inplace=True)', try using 'df.method({col: value}, inplace=True)' or df[col] = df[col].method(value) instead, to perform the operation inplace on the original object.\n",
      "\n",
      "\n",
      "  df1[\"country_code\"].fillna(\"US\",inplace=True)\n"
     ]
    }
   ],
   "source": [
    "df1[\"country_code\"].fillna(\"US\",inplace=True)"
   ]
  },
  {
   "cell_type": "code",
   "execution_count": 745,
   "metadata": {},
   "outputs": [
    {
     "data": {
      "text/plain": [
       "id                                     0\n",
       "name                                 248\n",
       "host_id                                0\n",
       "host_identity_verified               281\n",
       "host_name                            405\n",
       "neighbourhood_group                    0\n",
       "neighbourhood                          0\n",
       "lat                                    0\n",
       "long                                   0\n",
       "country                                0\n",
       "country_code                           0\n",
       "instant_bookable                       0\n",
       "cancellation_policy                    0\n",
       "room_type                              0\n",
       "construction_year                      0\n",
       "price                                  0\n",
       "service_fee                            0\n",
       "number_of_reviews                      0\n",
       "last_review                        15888\n",
       "reviews_per_month                  15876\n",
       "review_rate_number                   324\n",
       "calculated_host_listings_count       319\n",
       "house_rules                            0\n",
       "license                           102544\n",
       "dtype: int64"
      ]
     },
     "execution_count": 745,
     "metadata": {},
     "output_type": "execute_result"
    }
   ],
   "source": [
    "df1.isna().sum() "
   ]
  },
  {
   "cell_type": "code",
   "execution_count": 746,
   "metadata": {},
   "outputs": [
    {
     "data": {
      "text/plain": [
       "neighbourhood_group\n",
       "Manhattan        43781\n",
       "Brooklyn         41832\n",
       "Queens           13266\n",
       "Bronx             2712\n",
       "Staten Island      955\n",
       "Name: count, dtype: int64"
      ]
     },
     "execution_count": 746,
     "metadata": {},
     "output_type": "execute_result"
    }
   ],
   "source": [
    "df1[\"neighbourhood_group\"].value_counts()"
   ]
  },
  {
   "cell_type": "code",
   "execution_count": 747,
   "metadata": {},
   "outputs": [
    {
     "data": {
      "text/plain": [
       "neighbourhood\n",
       "Bedford-Stuyvesant        7936\n",
       "Williamsburg              7770\n",
       "Harlem                    5463\n",
       "Bushwick                  4979\n",
       "Hell's Kitchen            3965\n",
       "                          ... \n",
       "Rossville                    3\n",
       "Gerritsen Beach              3\n",
       "Fort Wadsworth               2\n",
       "Glen Oaks                    2\n",
       "Chelsea, Staten Island       1\n",
       "Name: count, Length: 224, dtype: int64"
      ]
     },
     "execution_count": 747,
     "metadata": {},
     "output_type": "execute_result"
    }
   ],
   "source": [
    "df1[\"neighbourhood\"].value_counts()"
   ]
  },
  {
   "cell_type": "code",
   "execution_count": 748,
   "metadata": {},
   "outputs": [
    {
     "data": {
      "text/plain": [
       "room_type\n",
       "Entire home/apt    53677\n",
       "Private room       46527\n",
       "Shared room         2226\n",
       "Hotel room           116\n",
       "Name: count, dtype: int64"
      ]
     },
     "execution_count": 748,
     "metadata": {},
     "output_type": "execute_result"
    }
   ],
   "source": [
    "df1[\"room_type\"].value_counts()"
   ]
  },
  {
   "cell_type": "code",
   "execution_count": 749,
   "metadata": {},
   "outputs": [
    {
     "data": {
      "text/plain": [
       "Index(['id', 'name', 'host_id', 'host_identity_verified', 'host_name',\n",
       "       'neighbourhood_group', 'neighbourhood', 'lat', 'long', 'country',\n",
       "       'country_code', 'instant_bookable', 'cancellation_policy', 'room_type',\n",
       "       'construction_year', 'price', 'service_fee', 'number_of_reviews',\n",
       "       'last_review', 'reviews_per_month', 'review_rate_number',\n",
       "       'calculated_host_listings_count', 'house_rules', 'license'],\n",
       "      dtype='object')"
      ]
     },
     "execution_count": 749,
     "metadata": {},
     "output_type": "execute_result"
    }
   ],
   "source": [
    "df1.columns"
   ]
  },
  {
   "cell_type": "markdown",
   "metadata": {},
   "source": [
    "EDA"
   ]
  },
  {
   "cell_type": "code",
   "execution_count": 750,
   "metadata": {},
   "outputs": [
    {
     "name": "stdout",
     "output_type": "stream",
     "text": [
      "<class 'pandas.core.frame.DataFrame'>\n",
      "Index: 102546 entries, 0 to 102598\n",
      "Data columns (total 24 columns):\n",
      " #   Column                          Non-Null Count   Dtype  \n",
      "---  ------                          --------------   -----  \n",
      " 0   id                              102546 non-null  int64  \n",
      " 1   name                            102298 non-null  object \n",
      " 2   host_id                         102546 non-null  int64  \n",
      " 3   host_identity_verified          102265 non-null  object \n",
      " 4   host_name                       102141 non-null  object \n",
      " 5   neighbourhood_group             102546 non-null  object \n",
      " 6   neighbourhood                   102546 non-null  object \n",
      " 7   lat                             102546 non-null  float64\n",
      " 8   long                            102546 non-null  float64\n",
      " 9   country                         102546 non-null  object \n",
      " 10  country_code                    102546 non-null  object \n",
      " 11  instant_bookable                102546 non-null  bool   \n",
      " 12  cancellation_policy             102546 non-null  object \n",
      " 13  room_type                       102546 non-null  object \n",
      " 14  construction_year               102546 non-null  float64\n",
      " 15  price                           102546 non-null  Int64  \n",
      " 16  service_fee                     102546 non-null  Int64  \n",
      " 17  number_of_reviews               102546 non-null  float64\n",
      " 18  last_review                     86658 non-null   object \n",
      " 19  reviews_per_month               86670 non-null   float64\n",
      " 20  review_rate_number              102222 non-null  float64\n",
      " 21  calculated_host_listings_count  102227 non-null  float64\n",
      " 22  house_rules                     102546 non-null  object \n",
      " 23  license                         2 non-null       object \n",
      "dtypes: Int64(2), bool(1), float64(7), int64(2), object(12)\n",
      "memory usage: 19.1+ MB\n"
     ]
    }
   ],
   "source": [
    "df1.info()"
   ]
  },
  {
   "cell_type": "code",
   "execution_count": 751,
   "metadata": {},
   "outputs": [
    {
     "data": {
      "text/plain": [
       "id                                     0\n",
       "name                                 248\n",
       "host_id                                0\n",
       "host_identity_verified               281\n",
       "host_name                            405\n",
       "neighbourhood_group                    0\n",
       "neighbourhood                          0\n",
       "lat                                    0\n",
       "long                                   0\n",
       "country                                0\n",
       "country_code                           0\n",
       "instant_bookable                       0\n",
       "cancellation_policy                    0\n",
       "room_type                              0\n",
       "construction_year                      0\n",
       "price                                  0\n",
       "service_fee                            0\n",
       "number_of_reviews                      0\n",
       "last_review                        15888\n",
       "reviews_per_month                  15876\n",
       "review_rate_number                   324\n",
       "calculated_host_listings_count       319\n",
       "house_rules                            0\n",
       "license                           102544\n",
       "dtype: int64"
      ]
     },
     "execution_count": 751,
     "metadata": {},
     "output_type": "execute_result"
    }
   ],
   "source": [
    "df1.isna().sum()"
   ]
  },
  {
   "cell_type": "code",
   "execution_count": 752,
   "metadata": {},
   "outputs": [
    {
     "data": {
      "text/html": [
       "<div>\n",
       "<style scoped>\n",
       "    .dataframe tbody tr th:only-of-type {\n",
       "        vertical-align: middle;\n",
       "    }\n",
       "\n",
       "    .dataframe tbody tr th {\n",
       "        vertical-align: top;\n",
       "    }\n",
       "\n",
       "    .dataframe thead th {\n",
       "        text-align: right;\n",
       "    }\n",
       "</style>\n",
       "<table border=\"1\" class=\"dataframe\">\n",
       "  <thead>\n",
       "    <tr style=\"text-align: right;\">\n",
       "      <th></th>\n",
       "      <th>id</th>\n",
       "      <th>host_id</th>\n",
       "      <th>lat</th>\n",
       "      <th>long</th>\n",
       "      <th>construction_year</th>\n",
       "      <th>price</th>\n",
       "      <th>service_fee</th>\n",
       "      <th>number_of_reviews</th>\n",
       "      <th>reviews_per_month</th>\n",
       "      <th>review_rate_number</th>\n",
       "      <th>calculated_host_listings_count</th>\n",
       "    </tr>\n",
       "  </thead>\n",
       "  <tbody>\n",
       "    <tr>\n",
       "      <th>count</th>\n",
       "      <td>1.025460e+05</td>\n",
       "      <td>1.025460e+05</td>\n",
       "      <td>102546.000000</td>\n",
       "      <td>102546.000000</td>\n",
       "      <td>102546.000000</td>\n",
       "      <td>102546.0</td>\n",
       "      <td>102546.0</td>\n",
       "      <td>102546.000000</td>\n",
       "      <td>86670.000000</td>\n",
       "      <td>102222.000000</td>\n",
       "      <td>102227.000000</td>\n",
       "    </tr>\n",
       "    <tr>\n",
       "      <th>mean</th>\n",
       "      <td>2.916022e+07</td>\n",
       "      <td>4.925428e+10</td>\n",
       "      <td>40.728090</td>\n",
       "      <td>-73.949642</td>\n",
       "      <td>2012.491292</td>\n",
       "      <td>625.276208</td>\n",
       "      <td>125.023492</td>\n",
       "      <td>27.458633</td>\n",
       "      <td>1.374339</td>\n",
       "      <td>3.279157</td>\n",
       "      <td>7.938989</td>\n",
       "    </tr>\n",
       "    <tr>\n",
       "      <th>std</th>\n",
       "      <td>1.624978e+07</td>\n",
       "      <td>2.853818e+10</td>\n",
       "      <td>0.055859</td>\n",
       "      <td>0.049525</td>\n",
       "      <td>5.765706</td>\n",
       "      <td>331.287429</td>\n",
       "      <td>66.240446</td>\n",
       "      <td>49.425855</td>\n",
       "      <td>1.746940</td>\n",
       "      <td>1.284604</td>\n",
       "      <td>32.226639</td>\n",
       "    </tr>\n",
       "    <tr>\n",
       "      <th>min</th>\n",
       "      <td>1.001254e+06</td>\n",
       "      <td>1.236005e+08</td>\n",
       "      <td>40.499790</td>\n",
       "      <td>-74.249840</td>\n",
       "      <td>2003.000000</td>\n",
       "      <td>50.0</td>\n",
       "      <td>10.0</td>\n",
       "      <td>0.000000</td>\n",
       "      <td>0.010000</td>\n",
       "      <td>1.000000</td>\n",
       "      <td>1.000000</td>\n",
       "    </tr>\n",
       "    <tr>\n",
       "      <th>25%</th>\n",
       "      <td>1.510666e+07</td>\n",
       "      <td>2.458368e+10</td>\n",
       "      <td>40.688740</td>\n",
       "      <td>-73.982580</td>\n",
       "      <td>2008.000000</td>\n",
       "      <td>341.0</td>\n",
       "      <td>68.0</td>\n",
       "      <td>1.000000</td>\n",
       "      <td>0.220000</td>\n",
       "      <td>2.000000</td>\n",
       "      <td>1.000000</td>\n",
       "    </tr>\n",
       "    <tr>\n",
       "      <th>50%</th>\n",
       "      <td>2.915124e+07</td>\n",
       "      <td>4.911800e+10</td>\n",
       "      <td>40.722290</td>\n",
       "      <td>-73.954440</td>\n",
       "      <td>2012.000000</td>\n",
       "      <td>625.0</td>\n",
       "      <td>125.0</td>\n",
       "      <td>7.000000</td>\n",
       "      <td>0.740000</td>\n",
       "      <td>3.000000</td>\n",
       "      <td>1.000000</td>\n",
       "    </tr>\n",
       "    <tr>\n",
       "      <th>75%</th>\n",
       "      <td>4.320852e+07</td>\n",
       "      <td>7.399621e+10</td>\n",
       "      <td>40.762760</td>\n",
       "      <td>-73.932350</td>\n",
       "      <td>2018.000000</td>\n",
       "      <td>912.0</td>\n",
       "      <td>182.0</td>\n",
       "      <td>30.000000</td>\n",
       "      <td>2.000000</td>\n",
       "      <td>4.000000</td>\n",
       "      <td>2.000000</td>\n",
       "    </tr>\n",
       "    <tr>\n",
       "      <th>max</th>\n",
       "      <td>5.736742e+07</td>\n",
       "      <td>9.876313e+10</td>\n",
       "      <td>40.916970</td>\n",
       "      <td>-73.705220</td>\n",
       "      <td>2022.000000</td>\n",
       "      <td>1200.0</td>\n",
       "      <td>240.0</td>\n",
       "      <td>1024.000000</td>\n",
       "      <td>90.000000</td>\n",
       "      <td>5.000000</td>\n",
       "      <td>332.000000</td>\n",
       "    </tr>\n",
       "  </tbody>\n",
       "</table>\n",
       "</div>"
      ],
      "text/plain": [
       "                 id       host_id            lat           long  \\\n",
       "count  1.025460e+05  1.025460e+05  102546.000000  102546.000000   \n",
       "mean   2.916022e+07  4.925428e+10      40.728090     -73.949642   \n",
       "std    1.624978e+07  2.853818e+10       0.055859       0.049525   \n",
       "min    1.001254e+06  1.236005e+08      40.499790     -74.249840   \n",
       "25%    1.510666e+07  2.458368e+10      40.688740     -73.982580   \n",
       "50%    2.915124e+07  4.911800e+10      40.722290     -73.954440   \n",
       "75%    4.320852e+07  7.399621e+10      40.762760     -73.932350   \n",
       "max    5.736742e+07  9.876313e+10      40.916970     -73.705220   \n",
       "\n",
       "       construction_year       price  service_fee  number_of_reviews  \\\n",
       "count      102546.000000    102546.0     102546.0      102546.000000   \n",
       "mean         2012.491292  625.276208   125.023492          27.458633   \n",
       "std             5.765706  331.287429    66.240446          49.425855   \n",
       "min          2003.000000        50.0         10.0           0.000000   \n",
       "25%          2008.000000       341.0         68.0           1.000000   \n",
       "50%          2012.000000       625.0        125.0           7.000000   \n",
       "75%          2018.000000       912.0        182.0          30.000000   \n",
       "max          2022.000000      1200.0        240.0        1024.000000   \n",
       "\n",
       "       reviews_per_month  review_rate_number  calculated_host_listings_count  \n",
       "count       86670.000000       102222.000000                   102227.000000  \n",
       "mean            1.374339            3.279157                        7.938989  \n",
       "std             1.746940            1.284604                       32.226639  \n",
       "min             0.010000            1.000000                        1.000000  \n",
       "25%             0.220000            2.000000                        1.000000  \n",
       "50%             0.740000            3.000000                        1.000000  \n",
       "75%             2.000000            4.000000                        2.000000  \n",
       "max            90.000000            5.000000                      332.000000  "
      ]
     },
     "execution_count": 752,
     "metadata": {},
     "output_type": "execute_result"
    }
   ],
   "source": [
    "df1.describe()"
   ]
  },
  {
   "cell_type": "code",
   "execution_count": 753,
   "metadata": {},
   "outputs": [
    {
     "data": {
      "image/png": "[encoded data removed]",
      "text/plain": [
       "<Figure size 800x500 with 2 Axes>"
      ]
     },
     "metadata": {},
     "output_type": "display_data"
    }
   ],
   "source": [
    "import seaborn as sns\n",
    "import matplotlib.pyplot as plt\n",
    "\n",
    "# Compute correlation matrix\n",
    "corr_matrix = df1[[\"price\", \"service_fee\", \"review_rate_number\", \"calculated_host_listings_count\",\"number_of_reviews\",\n",
    "                   \"instant_bookable\",\"lat\",\"long\"]].corr()\n",
    "\n",
    "# Heatmap\n",
    "plt.figure(figsize=(8, 5))\n",
    "sns.heatmap(corr_matrix, annot=True, cmap=\"coolwarm\", fmt=\".2f\", linewidths=0.5)\n",
    "plt.title(\"Feature Correlation Heatmap\")\n",
    "plt.show()\n"
   ]
  },
  {
   "cell_type": "code",
   "execution_count": 754,
   "metadata": {},
   "outputs": [
    {
     "name": "stdout",
     "output_type": "stream",
     "text": [
      "Index(['id', 'name', 'host_id', 'host_identity_verified', 'host_name',\n",
      "       'neighbourhood_group', 'neighbourhood', 'lat', 'long', 'country',\n",
      "       'country_code', 'instant_bookable', 'cancellation_policy', 'room_type',\n",
      "       'construction_year', 'price', 'service_fee', 'number_of_reviews',\n",
      "       'last_review', 'reviews_per_month', 'review_rate_number',\n",
      "       'calculated_host_listings_count', 'house_rules', 'license'],\n",
      "      dtype='object')\n"
     ]
    }
   ],
   "source": [
    "print(df1.columns)\n"
   ]
  },
  {
   "cell_type": "code",
   "execution_count": 755,
   "metadata": {},
   "outputs": [
    {
     "data": {
      "text/plain": [
       "id                                     0\n",
       "name                                 248\n",
       "host_id                                0\n",
       "host_identity_verified               281\n",
       "host_name                            405\n",
       "neighbourhood_group                    0\n",
       "neighbourhood                          0\n",
       "lat                                    0\n",
       "long                                   0\n",
       "country                                0\n",
       "country_code                           0\n",
       "instant_bookable                       0\n",
       "cancellation_policy                    0\n",
       "room_type                              0\n",
       "construction_year                      0\n",
       "price                                  0\n",
       "service_fee                            0\n",
       "number_of_reviews                      0\n",
       "last_review                        15888\n",
       "reviews_per_month                  15876\n",
       "review_rate_number                   324\n",
       "calculated_host_listings_count       319\n",
       "house_rules                            0\n",
       "license                           102544\n",
       "dtype: int64"
      ]
     },
     "execution_count": 755,
     "metadata": {},
     "output_type": "execute_result"
    }
   ],
   "source": [
    "df1.isna().sum()"
   ]
  },
  {
   "cell_type": "code",
   "execution_count": 757,
   "metadata": {},
   "outputs": [],
   "source": [
    "#i just know i have to use one hot encoding idk how to so i gbt the code from the internet\n",
    "from sklearn.preprocessing import OneHotEncoder, LabelEncoder\n",
    "import pandas as pd\n",
    "\n",
    "# 1. One-Hot Encoding for 'cancellation_policy' (3 categories)\n",
    "encoder_cancellation_policy = OneHotEncoder(drop='first')\n",
    "cancellation_policy_encoded = encoder_cancellation_policy.fit_transform(df1[['cancellation_policy']])\n",
    "\n",
    "# Convert to DataFrame (we need to convert the sparse matrix to a dense matrix)\n",
    "cancellation_policy_df = pd.DataFrame(cancellation_policy_encoded.toarray(), \n",
    "                                      columns=encoder_cancellation_policy.get_feature_names_out(['cancellation_policy']))\n",
    "\n",
    "# 2. Label Encoding for 'instant_bookable' (2 categories)\n",
    "label_encoder = LabelEncoder()\n",
    "df1['instant_bookable'] = label_encoder.fit_transform(df1['instant_bookable'])\n",
    "\n",
    "# 3. One-Hot Encoding for 'room_type' (4 categories)\n",
    "encoder_room_type = OneHotEncoder(drop='first')\n",
    "room_type_encoded = encoder_room_type.fit_transform(df1[['room_type']])\n",
    "\n",
    "# Convert to DataFrame (we need to convert the sparse matrix to a dense matrix)\n",
    "room_type_df = pd.DataFrame(room_type_encoded.toarray(), columns=encoder_room_type.get_feature_names_out(['room_type']))\n",
    "\n",
    "# Combine all the encoded columns with the original DataFrame\n",
    "df1 = pd.concat([df1, cancellation_policy_df, room_type_df], axis=1)\n",
    "\n",
    "# Drop original categorical columns\n",
    "df1 = df1.drop(columns=['cancellation_policy', 'room_type'])\n"
   ]
  },
  {
   "cell_type": "code",
   "execution_count": 760,
   "metadata": {},
   "outputs": [],
   "source": [
    "# Drop rows with NaN values in any column\n",
    "#df1.dropna(inplace=True)\n",
    "\n",
    "# Verify that all rows with NaN values have been dropped\n",
    "#print(df1.isna().sum())\n"
   ]
  },
  {
   "cell_type": "code",
   "execution_count": 761,
   "metadata": {},
   "outputs": [],
   "source": [
    "from sklearn.model_selection import train_test_split\n",
    "from sklearn.preprocessing import StandardScaler\n",
    "from sklearn.linear_model import LinearRegression\n",
    "from sklearn.metrics import mean_squared_error, r2_score\n",
    "\n",
    "# Step 2.2: Data Preprocessing - Scaling/Normalization\n",
    "# Select numerical features for scaling (lat, long, price, etc.)\n",
    "numerical_columns = ['lat', 'long', 'service_fee','price']\n",
    "scaler = StandardScaler()\n",
    "\n",
    "# Apply scaling to the numerical features\n",
    "df1[numerical_columns] = scaler.fit_transform(df1[numerical_columns])\n",
    "\n"
   ]
  },
  {
   "cell_type": "code",
   "execution_count": 762,
   "metadata": {},
   "outputs": [
    {
     "name": "stdout",
     "output_type": "stream",
     "text": [
      "<class 'pandas.core.frame.DataFrame'>\n",
      "Index: 102599 entries, 0 to 40396\n",
      "Data columns (total 11 columns):\n",
      " #   Column                        Non-Null Count   Dtype  \n",
      "---  ------                        --------------   -----  \n",
      " 0   lat                           102546 non-null  float64\n",
      " 1   long                          102546 non-null  float64\n",
      " 2   instant_bookable              102546 non-null  float64\n",
      " 3   price                         102546 non-null  float64\n",
      " 4   service_fee                   102546 non-null  float64\n",
      " 5   number_of_reviews             102546 non-null  float64\n",
      " 6   cancellation_policy_moderate  102546 non-null  float64\n",
      " 7   cancellation_policy_strict    102546 non-null  float64\n",
      " 8   room_type_Hotel room          102546 non-null  float64\n",
      " 9   room_type_Private room        102546 non-null  float64\n",
      " 10  room_type_Shared room         102546 non-null  float64\n",
      "dtypes: float64(11)\n",
      "memory usage: 9.4 MB\n",
      "None\n"
     ]
    }
   ],
   "source": [
    "# Drop columns that are not useful or have non-numeric data\n",
    "df1.drop(columns=[\"id\",\"name\",\"host_id\",\"host_name\",\"neighbourhood\",\"neighbourhood_group\",\"last_review\",\"reviews_per_month\",\"construction_year\",\n",
    "                  \"review_rate_number\",\"host_identity_verified\",\"country\",\"country_code\",\"house_rules\",\"license\",\"calculated_host_listings_count\"], inplace=True)\n",
    "\n",
    "# Verify that the columns are dropped\n",
    "print(df1.info())\n"
   ]
  },
  {
   "cell_type": "code",
   "execution_count": 763,
   "metadata": {},
   "outputs": [
    {
     "data": {
      "text/plain": [
       "lat                             53\n",
       "long                            53\n",
       "instant_bookable                53\n",
       "price                           53\n",
       "service_fee                     53\n",
       "number_of_reviews               53\n",
       "cancellation_policy_moderate    53\n",
       "cancellation_policy_strict      53\n",
       "room_type_Hotel room            53\n",
       "room_type_Private room          53\n",
       "room_type_Shared room           53\n",
       "dtype: int64"
      ]
     },
     "execution_count": 763,
     "metadata": {},
     "output_type": "execute_result"
    }
   ],
   "source": [
    "df1.isna().sum()    "
   ]
  },
  {
   "cell_type": "code",
   "execution_count": 764,
   "metadata": {},
   "outputs": [
    {
     "name": "stdout",
     "output_type": "stream",
     "text": [
      "lat                             0\n",
      "long                            0\n",
      "instant_bookable                0\n",
      "price                           0\n",
      "service_fee                     0\n",
      "number_of_reviews               0\n",
      "cancellation_policy_moderate    0\n",
      "cancellation_policy_strict      0\n",
      "room_type_Hotel room            0\n",
      "room_type_Private room          0\n",
      "room_type_Shared room           0\n",
      "dtype: int64\n"
     ]
    }
   ],
   "source": [
    "# Drop rows with NaN values in any column\n",
    "df1.dropna(inplace=True)\n",
    "\n",
    "# Verify the drop\n",
    "print(df1.isna().sum())\n"
   ]
  },
  {
   "cell_type": "code",
   "execution_count": 765,
   "metadata": {},
   "outputs": [
    {
     "name": "stdout",
     "output_type": "stream",
     "text": [
      "Mean Squared Error: 0.003349908572755294\n",
      "R-squared: 0.996639201083744\n"
     ]
    }
   ],
   "source": [
    "# Let's assume 'price' is the target variable and all other features are predictors\n",
    "X = df1.drop(columns=['price'])  # Features (exclude the target 'price' column)\n",
    "y = df1['price']  # Target variable (price)\n",
    "\n",
    "# Split the data into 80% training and 20% testing\n",
    "X_train, X_test, y_train, y_test = train_test_split(X, y, test_size=0.2, random_state=42)\n",
    "\n",
    "# Step 2.4: Model Selection - Linear Regression\n",
    "# Initialize the model\n",
    "model = LinearRegression()\n",
    "\n",
    "# Train the model\n",
    "model.fit(X_train, y_train)\n",
    "\n",
    "# Make predictions on the test set\n",
    "y_pred = model.predict(X_test)\n",
    "\n",
    "# Evaluate the model\n",
    "mse = mean_squared_error(y_test, y_pred)\n",
    "r2 = r2_score(y_test, y_pred)\n",
    "\n",
    "# Print evaluation metrics\n",
    "print(f\"Mean Squared Error: {mse}\")\n",
    "print(f\"R-squared: {r2}\")\n"
   ]
  },
  {
   "cell_type": "code",
   "execution_count": 766,
   "metadata": {},
   "outputs": [],
   "source": [
    "from sklearn.ensemble import RandomForestRegressor\n",
    "from sklearn.model_selection import train_test_split\n",
    "from sklearn.metrics import mean_squared_error, r2_score\n"
   ]
  },
  {
   "cell_type": "code",
   "execution_count": 767,
   "metadata": {},
   "outputs": [
    {
     "name": "stdout",
     "output_type": "stream",
     "text": [
      "Mean Squared Error: 0.004249579631039422\n",
      "R-squared: 0.995736605251052\n"
     ]
    }
   ],
   "source": [
    "# Initialize RandomForestRegressor\n",
    "rf_model = RandomForestRegressor(n_estimators=100, random_state=42)\n",
    "\n",
    "# Fit the model to the training data\n",
    "rf_model.fit(X_train, y_train)\n",
    "# Predict on the test set\n",
    "y_pred = rf_model.predict(X_test)\n",
    "# Calculate Mean Squared Error and R-squared\n",
    "mse = mean_squared_error(y_test, y_pred)\n",
    "r2 = r2_score(y_test, y_pred)\n",
    "\n",
    "print(f\"Mean Squared Error: {mse}\")\n",
    "print(f\"R-squared: {r2}\")\n"
   ]
  },
  {
   "cell_type": "code",
   "execution_count": null,
   "metadata": {},
   "outputs": [],
   "source": []
  }
 ],
 "metadata": {
  "kernelspec": {
   "display_name": "Python 3",
   "language": "python",
   "name": "python3"
  },
  "language_info": {
   "codemirror_mode": {
    "name": "ipython",
    "version": 3
   },
   "file_extension": ".py",
   "mimetype": "text/x-python",
   "name": "python",
   "nbconvert_exporter": "python",
   "pygments_lexer": "ipython3",
   "version": "3.12.4"
  }
 },
 "nbformat": 4,
 "nbformat_minor": 2
}
